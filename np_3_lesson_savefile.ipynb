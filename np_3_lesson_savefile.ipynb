{
  "nbformat": 4,
  "nbformat_minor": 0,
  "metadata": {
    "colab": {
      "provenance": [],
      "toc_visible": true,
      "authorship_tag": "ABX9TyOsN1BYO5B1h5VWyBKmO5o5",
      "include_colab_link": true
    },
    "kernelspec": {
      "name": "python3",
      "display_name": "Python 3"
    },
    "language_info": {
      "name": "python"
    }
  },
  "cells": [
    {
      "cell_type": "markdown",
      "metadata": {
        "id": "view-in-github",
        "colab_type": "text"
      },
      "source": [
        "<a href=\"https://colab.research.google.com/github/idrisello/my-numpy-lessons/blob/main/np_3_lesson_savefile.ipynb\" target=\"_parent\"><img src=\"https://colab.research.google.com/assets/colab-badge.svg\" alt=\"Open In Colab\"/></a>"
      ]
    },
    {
      "cell_type": "code",
      "execution_count": null,
      "metadata": {
        "id": "OSQ-WlU-8Iwp"
      },
      "outputs": [],
      "source": [
        "import numpy as np"
      ]
    },
    {
      "cell_type": "code",
      "source": [
        "arr=np.arange(12)\n",
        "arr"
      ],
      "metadata": {
        "colab": {
          "base_uri": "https://localhost:8080/"
        },
        "id": "VKR2aRX78Rnz",
        "outputId": "60101d8b-362f-4be8-99a0-8cc208d1fcee"
      },
      "execution_count": null,
      "outputs": [
        {
          "output_type": "execute_result",
          "data": {
            "text/plain": [
              "array([ 0,  1,  2,  3,  4,  5,  6,  7,  8,  9, 10, 11])"
            ]
          },
          "metadata": {},
          "execution_count": 2
        }
      ]
    },
    {
      "cell_type": "code",
      "source": [
        "np.save('data',arr) #save orqali npga fila qoshamz va malumot saqlaymiz\n",
        "arr1=np.load(\"data.npy\") #load orqali saqlagan filemizni qayta yuklam npga qoshamza p/s toliq file nomi .keyingi sozlari bn yozilishi kere\n",
        "arr1"
      ],
      "metadata": {
        "colab": {
          "base_uri": "https://localhost:8080/"
        },
        "id": "qnWAU8me8YLM",
        "outputId": "52b0cbf0-4a22-4b15-e46f-66209c8d6a7a"
      },
      "execution_count": null,
      "outputs": [
        {
          "output_type": "execute_result",
          "data": {
            "text/plain": [
              "array([ 0,  1,  2,  3,  4,  5,  6,  7,  8,  9, 10, 11])"
            ]
          },
          "metadata": {},
          "execution_count": 8
        }
      ]
    },
    {
      "cell_type": "code",
      "source": [
        "arr2=np.arange(30).reshape(6,5)\n",
        "arr2"
      ],
      "metadata": {
        "colab": {
          "base_uri": "https://localhost:8080/"
        },
        "id": "cKfZT3RE9Xl6",
        "outputId": "9927dc96-011d-4dcc-a319-1114c2291761"
      },
      "execution_count": null,
      "outputs": [
        {
          "output_type": "execute_result",
          "data": {
            "text/plain": [
              "array([[ 0,  1,  2,  3,  4],\n",
              "       [ 5,  6,  7,  8,  9],\n",
              "       [10, 11, 12, 13, 14],\n",
              "       [15, 16, 17, 18, 19],\n",
              "       [20, 21, 22, 23, 24],\n",
              "       [25, 26, 27, 28, 29]])"
            ]
          },
          "metadata": {},
          "execution_count": 16
        }
      ]
    },
    {
      "cell_type": "code",
      "source": [
        "np.savez('arrays',a=arr1, b=arr2) #savez orqali 2xil malumotlarni kalit bn saqlab keyinchalik kaliti bn murojaat qla olamz"
      ],
      "metadata": {
        "id": "FKRRDVLe9d0E"
      },
      "execution_count": null,
      "outputs": []
    },
    {
      "cell_type": "code",
      "source": [
        "arrays=np.load(\"arrays.npz\")"
      ],
      "metadata": {
        "id": "0rinaVl--Obd"
      },
      "execution_count": null,
      "outputs": []
    },
    {
      "cell_type": "code",
      "source": [
        "arrays['a']"
      ],
      "metadata": {
        "colab": {
          "base_uri": "https://localhost:8080/"
        },
        "id": "KHVLoGZT-bHV",
        "outputId": "eb81857d-6924-4f37-ece2-b2f188e846e4"
      },
      "execution_count": null,
      "outputs": [
        {
          "output_type": "execute_result",
          "data": {
            "text/plain": [
              "array([ 0,  1,  2,  3,  4,  5,  6,  7,  8,  9, 10, 11])"
            ]
          },
          "metadata": {},
          "execution_count": 22
        }
      ]
    },
    {
      "cell_type": "code",
      "source": [
        "arr3=np.random.randn(7)\n",
        "arr3"
      ],
      "metadata": {
        "colab": {
          "base_uri": "https://localhost:8080/"
        },
        "id": "f9CshQtI_e0t",
        "outputId": "ac835444-1604-485a-f2ee-77ecc25d4772"
      },
      "execution_count": null,
      "outputs": [
        {
          "output_type": "execute_result",
          "data": {
            "text/plain": [
              "array([-1.7601327 , -0.81880629,  0.03285161,  0.65945548,  0.28614507,\n",
              "        2.26858139, -0.91544729])"
            ]
          },
          "metadata": {},
          "execution_count": 24
        }
      ]
    },
    {
      "cell_type": "code",
      "source": [
        "np.savez_compressed('arrays-compressed', a=arr1, b=arr2, c=arr3) #2va undan ortiq arraylarni hajmini qisqartirib berib saqlaydi"
      ],
      "metadata": {
        "id": "uvdjuaRJAKWf"
      },
      "execution_count": null,
      "outputs": []
    },
    {
      "cell_type": "code",
      "source": [
        "new_data=np.load('arrays-compressed.npz')\n",
        "new_data['c']"
      ],
      "metadata": {
        "colab": {
          "base_uri": "https://localhost:8080/"
        },
        "id": "CTYvqjL0Abco",
        "outputId": "959c24a1-a6dd-4539-babf-cd757dd6d9e4"
      },
      "execution_count": null,
      "outputs": [
        {
          "output_type": "execute_result",
          "data": {
            "text/plain": [
              "array([-1.7601327 , -0.81880629,  0.03285161,  0.65945548,  0.28614507,\n",
              "        2.26858139, -0.91544729])"
            ]
          },
          "metadata": {},
          "execution_count": 29
        }
      ]
    },
    {
      "cell_type": "code",
      "source": [],
      "metadata": {
        "id": "r6lmunj1ApIX"
      },
      "execution_count": null,
      "outputs": []
    }
  ]
}