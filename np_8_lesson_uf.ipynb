{
  "nbformat": 4,
  "nbformat_minor": 0,
  "metadata": {
    "colab": {
      "provenance": [],
      "authorship_tag": "ABX9TyO6vaFSbrt3U/5yD7yP+7vt",
      "include_colab_link": true
    },
    "kernelspec": {
      "name": "python3",
      "display_name": "Python 3"
    },
    "language_info": {
      "name": "python"
    }
  },
  "cells": [
    {
      "cell_type": "markdown",
      "metadata": {
        "id": "view-in-github",
        "colab_type": "text"
      },
      "source": [
        "<a href=\"https://colab.research.google.com/github/idrisello/my-numpy-lessons/blob/main/np_8_lesson_uf.ipynb\" target=\"_parent\"><img src=\"https://colab.research.google.com/assets/colab-badge.svg\" alt=\"Open In Colab\"/></a>"
      ]
    },
    {
      "cell_type": "code",
      "execution_count": 3,
      "metadata": {
        "id": "5qFe9nXLciRP"
      },
      "outputs": [],
      "source": [
        "import numpy as np"
      ]
    },
    {
      "cell_type": "markdown",
      "source": [
        "# ufuncs are used to implement vectorization in NumPy which is way faster than iterating over elements.\n",
        "\n",
        "## They also provide broadcasting and additional methods like reduce, accumulate etc. that are very helpful for computation.\n",
        "\n",
        "ufuncs also take additional arguments, like:\n",
        "\n",
        "where boolean array or condition defining where the operations should take place.\n",
        "\n",
        "dtype defining the return type of elements.\n",
        "\n",
        "out output array where the return value should be copied.\n",
        "\n"
      ],
      "metadata": {
        "id": "JzO4ayq_cuQ8"
      }
    },
    {
      "cell_type": "code",
      "source": [
        "# Define the function that calculates the values\n",
        "def calculate_value(x, y):\n",
        "    return x**2 + y**2\n",
        "\n",
        "# Create a 3x3 array using the function and shape\n",
        "result = np.fromfunction(calculate_value, (3, 3)) #alculate_value function takes the indices x and y and returns their squared sum.\n",
        "\n",
        "\n",
        "\n",
        "\n",
        "\n",
        "\n",
        "\n",
        "\n",
        "print(result)\n"
      ],
      "metadata": {
        "colab": {
          "base_uri": "https://localhost:8080/"
        },
        "id": "16hPhIJldZmB",
        "outputId": "c5906850-f62b-4115-a10a-3c7128278d55"
      },
      "execution_count": 5,
      "outputs": [
        {
          "output_type": "stream",
          "name": "stdout",
          "text": [
            "[[0. 1. 4.]\n",
            " [1. 2. 5.]\n",
            " [4. 5. 8.]]\n"
          ]
        }
      ]
    },
    {
      "cell_type": "code",
      "source": [
        "def myadd(x, y):\n",
        "  return x+y\n",
        "\n",
        "myadd = np.frompyfunc(myadd, 2, 1)# method is used to construct an array by executing a specified function over each coordinate. It creates an array based on the output of a user-defined function that is applied to each element's indices.\n",
        "\n",
        "print(myadd([1, 2, 3, 4], [5, 6, 7, 8]))"
      ],
      "metadata": {
        "colab": {
          "base_uri": "https://localhost:8080/"
        },
        "id": "vkBudWbmdl6j",
        "outputId": "5abc5ce3-6843-4ba2-9f12-ebb617601a4c"
      },
      "execution_count": 10,
      "outputs": [
        {
          "output_type": "stream",
          "name": "stdout",
          "text": [
            "[6 8 10 12]\n"
          ]
        }
      ]
    },
    {
      "cell_type": "code",
      "source": [
        "arr1 = np.array([10, 20, 30, 40, 50, 60])\n",
        "arr2 = np.array([3, 7, 9, 8, 2, 33])\n",
        "\n",
        "newarr = np.remainder(arr1, arr2) #functions return the remainder of the values in the first array corresponding to the values in the second array, and return the results in a new array.\n",
        "#remainder=mod\n",
        "print(newarr)"
      ],
      "metadata": {
        "colab": {
          "base_uri": "https://localhost:8080/"
        },
        "id": "9j7f6wzKe7pd",
        "outputId": "973fa3a7-27ad-4a1c-8b97-3c0028f087b1"
      },
      "execution_count": 11,
      "outputs": [
        {
          "output_type": "stream",
          "name": "stdout",
          "text": [
            "[ 1  6  3  0  0 27]\n"
          ]
        }
      ]
    },
    {
      "cell_type": "code",
      "source": [
        "arr3=np.array([10,20,30,40,50,60])\n",
        "arr4=np.array([3,7,9,6,70,19])\n",
        "arr_divmod=np.divmod(arr3,arr4) #function return both the quotient and the the mod. The return value is two arrays, the first array contains the quotient and second array contains the mod."
      ],
      "metadata": {
        "colab": {
          "base_uri": "https://localhost:8080/"
        },
        "id": "z-ySdu0wfI99",
        "outputId": "32188d35-b290-4a18-ee1f-39801466d751"
      },
      "execution_count": 12,
      "outputs": [
        {
          "output_type": "execute_result",
          "data": {
            "text/plain": [
              "(array([3, 2, 3, 6, 0, 3]), array([ 1,  6,  3,  4, 50,  3]))"
            ]
          },
          "metadata": {},
          "execution_count": 12
        }
      ]
    },
    {
      "cell_type": "code",
      "source": [
        "arr = np.array([-1, -2, 1, 2, 3, -4])\n",
        "newarr2 = np.abs(arr) #returns the magnitude (also known as the modulus) of the complex number.\n",
        "\n",
        "print(newarr2)"
      ],
      "metadata": {
        "colab": {
          "base_uri": "https://localhost:8080/"
        },
        "id": "Lp5Z9oTIhSet",
        "outputId": "4433da0c-085d-4a73-ffb8-300303769633"
      },
      "execution_count": 16,
      "outputs": [
        {
          "output_type": "stream",
          "name": "stdout",
          "text": [
            "[1 2 1 2 3 4]\n"
          ]
        }
      ]
    },
    {
      "cell_type": "markdown",
      "source": [
        "# **Truncation**\n",
        "Remove the decimals, and return the float number closest to zero. Use the trunc() and fix() functions.*"
      ],
      "metadata": {
        "id": "8OqYoX45iH_h"
      }
    },
    {
      "cell_type": "code",
      "source": [
        "arr5 = np.trunc([-3.1666, 3.6667])\n",
        "arr5"
      ],
      "metadata": {
        "colab": {
          "base_uri": "https://localhost:8080/"
        },
        "id": "gZ45ybeohizA",
        "outputId": "205d6eb8-625b-41e0-cf56-8ddd624d433b"
      },
      "execution_count": 17,
      "outputs": [
        {
          "output_type": "execute_result",
          "data": {
            "text/plain": [
              "array([-3.,  3.])"
            ]
          },
          "metadata": {},
          "execution_count": 17
        }
      ]
    },
    {
      "cell_type": "code",
      "source": [
        "arr6=np.fix([4.9876,2.77601])\n",
        "arr6"
      ],
      "metadata": {
        "colab": {
          "base_uri": "https://localhost:8080/"
        },
        "id": "c_RmeK_7iVJE",
        "outputId": "597c61f4-f035-4057-d99f-df80277911c0"
      },
      "execution_count": 18,
      "outputs": [
        {
          "output_type": "execute_result",
          "data": {
            "text/plain": [
              "array([4., 2.])"
            ]
          },
          "metadata": {},
          "execution_count": 18
        }
      ]
    },
    {
      "cell_type": "code",
      "source": [
        "arr7=np.around([3.43,5,7.78]) #The around() function increments preceding digit or decimal by 1 if >=5 else do nothing.\n",
        "#E.g. round off to 1 decimal point, 3.16666 is 3.2\n",
        "arr7"
      ],
      "metadata": {
        "colab": {
          "base_uri": "https://localhost:8080/"
        },
        "id": "DAjC8vxTinO0",
        "outputId": "eb9d91d9-9add-4ab6-a192-78d798cea456"
      },
      "execution_count": 21,
      "outputs": [
        {
          "output_type": "execute_result",
          "data": {
            "text/plain": [
              "array([3., 5., 8.])"
            ]
          },
          "metadata": {},
          "execution_count": 21
        }
      ]
    },
    {
      "cell_type": "code",
      "source": [
        "#The floor() function rounds off decimal to nearest lower integer.\n",
        "arr8 = np.floor([-3.1666, 3.6667])\n",
        "print(arr8)"
      ],
      "metadata": {
        "colab": {
          "base_uri": "https://localhost:8080/"
        },
        "id": "33b1wnpxi-Ry",
        "outputId": "e25c02a4-981c-4ce6-f56b-4ddd05e6e8bc"
      },
      "execution_count": 24,
      "outputs": [
        {
          "output_type": "stream",
          "name": "stdout",
          "text": [
            "[-4.  3.]\n"
          ]
        }
      ]
    },
    {
      "cell_type": "code",
      "source": [
        "#The ceil() function rounds off decimal to nearest upper integer.\n",
        "arr9=np.ceil([-4,34,-5,7.99899,3.1])\n",
        "arr9"
      ],
      "metadata": {
        "colab": {
          "base_uri": "https://localhost:8080/"
        },
        "id": "Wc-4xIKujrub",
        "outputId": "37c2aafa-ebb9-4e1f-d197-22fae705f85b"
      },
      "execution_count": 26,
      "outputs": [
        {
          "output_type": "execute_result",
          "data": {
            "text/plain": [
              "array([-4., 34., -5.,  8.,  4.])"
            ]
          },
          "metadata": {},
          "execution_count": 26
        }
      ]
    },
    {
      "cell_type": "code",
      "source": [
        "arr1\n"
      ],
      "metadata": {
        "colab": {
          "base_uri": "https://localhost:8080/"
        },
        "id": "Bx8_zhWdnyHT",
        "outputId": "b465c33b-90e4-457e-8252-f31348d23d90"
      },
      "execution_count": 32,
      "outputs": [
        {
          "output_type": "execute_result",
          "data": {
            "text/plain": [
              "array([10, 20, 30, 40, 50, 60])"
            ]
          },
          "metadata": {},
          "execution_count": 32
        }
      ]
    },
    {
      "cell_type": "code",
      "source": [
        "arr2"
      ],
      "metadata": {
        "colab": {
          "base_uri": "https://localhost:8080/"
        },
        "id": "_ix_QQypn3hg",
        "outputId": "da8ae7b7-f700-4336-e180-b8b87c69bffa"
      },
      "execution_count": 33,
      "outputs": [
        {
          "output_type": "execute_result",
          "data": {
            "text/plain": [
              "array([ 3,  7,  9,  8,  2, 33])"
            ]
          },
          "metadata": {},
          "execution_count": 33
        }
      ]
    },
    {
      "cell_type": "code",
      "source": [
        "arr_sum = np.sum([arr1, arr2]) #addition is done between two arguments whereas summation happens over n elements.\n",
        "arr_add=np.add(arr1,arr2)\n",
        "arr_sum"
      ],
      "metadata": {
        "colab": {
          "base_uri": "https://localhost:8080/"
        },
        "id": "-svcP6e3j2s7",
        "outputId": "618b3db0-6d52-4ff5-c41c-a0578eca4baa"
      },
      "execution_count": 28,
      "outputs": [
        {
          "output_type": "execute_result",
          "data": {
            "text/plain": [
              "272"
            ]
          },
          "metadata": {},
          "execution_count": 28
        }
      ]
    },
    {
      "cell_type": "code",
      "source": [
        "arr_add"
      ],
      "metadata": {
        "colab": {
          "base_uri": "https://localhost:8080/"
        },
        "id": "J2iurV2Inkmp",
        "outputId": "a856bca7-f2ad-4ae2-db35-ad69429aa78c"
      },
      "execution_count": 29,
      "outputs": [
        {
          "output_type": "execute_result",
          "data": {
            "text/plain": [
              "array([13, 27, 39, 48, 52, 93])"
            ]
          },
          "metadata": {},
          "execution_count": 29
        }
      ]
    },
    {
      "cell_type": "code",
      "source": [
        "newarr0 = np.sum([arr1, arr2], axis=1)#sum the numbers in each array.\n",
        "newarr0"
      ],
      "metadata": {
        "colab": {
          "base_uri": "https://localhost:8080/"
        },
        "id": "Tjk9p4Rvnvpj",
        "outputId": "51f5d78e-9fad-4f8d-e63c-2447c6da5400"
      },
      "execution_count": 34,
      "outputs": [
        {
          "output_type": "execute_result",
          "data": {
            "text/plain": [
              "array([210,  62])"
            ]
          },
          "metadata": {},
          "execution_count": 34
        }
      ]
    },
    {
      "cell_type": "code",
      "source": [
        "arr1"
      ],
      "metadata": {
        "colab": {
          "base_uri": "https://localhost:8080/"
        },
        "id": "OYu2NbQmoOnc",
        "outputId": "59621cd3-d0af-4c91-adfa-e823add50996"
      },
      "execution_count": 36,
      "outputs": [
        {
          "output_type": "execute_result",
          "data": {
            "text/plain": [
              "array([10, 20, 30, 40, 50, 60])"
            ]
          },
          "metadata": {},
          "execution_count": 36
        }
      ]
    },
    {
      "cell_type": "code",
      "source": [
        "arr1.prod() #prod means multiply all elements in array each others"
      ],
      "metadata": {
        "colab": {
          "base_uri": "https://localhost:8080/"
        },
        "id": "MEhZlFTLof_Y",
        "outputId": "ba8f1c40-38bf-401f-cc28-dab66b2169fe"
      },
      "execution_count": 38,
      "outputs": [
        {
          "output_type": "execute_result",
          "data": {
            "text/plain": [
              "720000000"
            ]
          },
          "metadata": {},
          "execution_count": 38
        }
      ]
    },
    {
      "cell_type": "code",
      "source": [
        "v=np.prod([arr1,arr2],axis=0)\n",
        "v"
      ],
      "metadata": {
        "colab": {
          "base_uri": "https://localhost:8080/"
        },
        "id": "mtd2BB8ro1O3",
        "outputId": "6e36db92-6f9f-452d-ed21-a27bc04e0a28"
      },
      "execution_count": 40,
      "outputs": [
        {
          "output_type": "execute_result",
          "data": {
            "text/plain": [
              "array([  30,  140,  270,  320,  100, 1980])"
            ]
          },
          "metadata": {},
          "execution_count": 40
        }
      ]
    },
    {
      "cell_type": "code",
      "source": [
        "#ummulative product means taking the product partially.\n",
        "\n",
        "#E.g. The partial product of [1, 2, 3, 4] is [1, 1*2, 1*2*3, 1*2*3*4] = [1, 2, 6, 24]\n",
        "#Perfom partial sum with the cumprod() function.\n",
        "arr11 = np.array([5, 6, 7, 8])\n",
        "newarr11 = np.cumprod(arr11)\n",
        "\n",
        "print(newarr11)"
      ],
      "metadata": {
        "colab": {
          "base_uri": "https://localhost:8080/"
        },
        "id": "yOIvaiPWpJ1Y",
        "outputId": "3755c965-666e-4eee-bf8c-a4e1f1f84637"
      },
      "execution_count": 42,
      "outputs": [
        {
          "output_type": "stream",
          "name": "stdout",
          "text": [
            "[   5   30  210 1680]\n"
          ]
        }
      ]
    },
    {
      "cell_type": "code",
      "source": [
        "#A discrete difference means subtracting two successive elements.\n",
        "\n",
        "#E.g. for [1, 2, 3, 4], the discrete difference would be [2-1, 3-2, 4-3] = [1, 1, 1]\n",
        "\n",
        "#To find the discrete difference, use the diff() function.\n",
        "arr12 = np.array([10, 15, 25, 5])\n",
        "\n",
        "newarr12 = np.diff(arr12)\n",
        "\n",
        "print(newarr12)#Returns: [5 10 -20] because 15-10=5, 25-15=10, and 5-25=-20"
      ],
      "metadata": {
        "colab": {
          "base_uri": "https://localhost:8080/"
        },
        "id": "J4IGteAEpl5-",
        "outputId": "2193cd2c-a9c0-4b3f-d2a2-00fcfb0c57d8"
      },
      "execution_count": 44,
      "outputs": [
        {
          "output_type": "stream",
          "name": "stdout",
          "text": [
            "[  5  10 -20]\n"
          ]
        }
      ]
    },
    {
      "cell_type": "code",
      "source": [
        "#The Lowest Common Multiple is the smallest number that is a common multiple of two numbers.\n",
        "num1 = 4\n",
        "num2 = 6\n",
        "\n",
        "x = np.lcm(num1, num2)\n",
        "\n",
        "print(x)"
      ],
      "metadata": {
        "colab": {
          "base_uri": "https://localhost:8080/"
        },
        "id": "0uJH8PLjqCM1",
        "outputId": "2da3a763-addb-42df-ea21-eeebc9c04324"
      },
      "execution_count": 45,
      "outputs": [
        {
          "output_type": "stream",
          "name": "stdout",
          "text": [
            "12\n"
          ]
        }
      ]
    },
    {
      "cell_type": "code",
      "source": [
        "arr13 = np.array([3, 6, 9])\n",
        "#To find the Lowest Common Multiple of all values in an array, you can use the reduce() method.\n",
        "xl = np.lcm.reduce(arr)#The reduce() method will use the ufunc, in this case the lcm() function, on each element, and reduce the array by one dimension.\n",
        "\n",
        "print(xl)"
      ],
      "metadata": {
        "colab": {
          "base_uri": "https://localhost:8080/"
        },
        "id": "9PCpDIdRqo7q",
        "outputId": "f2a42c0b-32fc-4e13-a564-6e3c1e3cbf42"
      },
      "execution_count": 46,
      "outputs": [
        {
          "output_type": "stream",
          "name": "stdout",
          "text": [
            "18\n"
          ]
        }
      ]
    },
    {
      "cell_type": "code",
      "source": [
        "#The GCD (Greatest Common Denominator), also known as HCF (Highest Common Factor) is the biggest number that is a common factor of both of the numbers.\n",
        "num3= 6\n",
        "num4 = 9\n",
        "\n",
        "xx = np.gcd(num3, num4)\n",
        "#Returns: 3 because that is the highest number both numbers can be divided by (6/3=2 and 9/3=3).\n",
        "print(xx)"
      ],
      "metadata": {
        "colab": {
          "base_uri": "https://localhost:8080/"
        },
        "id": "mkmQQr8lq4lF",
        "outputId": "745e99e7-1487-45f0-fde7-4b0ba2ade27e"
      },
      "execution_count": 48,
      "outputs": [
        {
          "output_type": "stream",
          "name": "stdout",
          "text": [
            "3\n"
          ]
        }
      ]
    },
    {
      "cell_type": "code",
      "source": [
        "arr14 = np.array([20, 8, 32, 36, 16])\n",
        "\n",
        "p = np.gcd.reduce(arr14)\n",
        "\n",
        "print(p)"
      ],
      "metadata": {
        "colab": {
          "base_uri": "https://localhost:8080/"
        },
        "id": "Lwp4T_nurKzE",
        "outputId": "3d281395-c62f-4919-cd9e-5d20a5bf4639"
      },
      "execution_count": 50,
      "outputs": [
        {
          "output_type": "stream",
          "name": "stdout",
          "text": [
            "4\n"
          ]
        }
      ]
    },
    {
      "cell_type": "code",
      "source": [
        "arr15 = np.array([1, 1, 1, 2, 3, 4, 5, 5, 6, 7])\n",
        "\n",
        "x15 = np.unique(arr15)#method to find unique elements from any array.\n",
        "\n",
        "print(x15)"
      ],
      "metadata": {
        "colab": {
          "base_uri": "https://localhost:8080/"
        },
        "id": "L5wQAniZrgR4",
        "outputId": "48e27535-66e0-4da9-a928-a153927061bd"
      },
      "execution_count": 53,
      "outputs": [
        {
          "output_type": "stream",
          "name": "stdout",
          "text": [
            "[1 2 3 4 5 6 7]\n"
          ]
        }
      ]
    },
    {
      "cell_type": "code",
      "source": [
        "arr16=np.array([1,2,3,4,3,7,8,6,4])"
      ],
      "metadata": {
        "id": "38I9qWqNsP4m"
      },
      "execution_count": 57,
      "outputs": []
    },
    {
      "cell_type": "code",
      "source": [
        "arr17=np.array([2,2,3,88,66,33,4])"
      ],
      "metadata": {
        "id": "mgfR5g9lsbi3"
      },
      "execution_count": 58,
      "outputs": []
    },
    {
      "cell_type": "code",
      "source": [
        "newarr17=np.union1d(arr16,arr17)#To find the unique values of two arrays, use the union1d() method.\n",
        "newarr17"
      ],
      "metadata": {
        "colab": {
          "base_uri": "https://localhost:8080/"
        },
        "id": "hDY3OcS1scvW",
        "outputId": "f025de1f-177d-4abf-ff6a-938bdff469a9"
      },
      "execution_count": 60,
      "outputs": [
        {
          "output_type": "execute_result",
          "data": {
            "text/plain": [
              "array([ 1,  2,  3,  4,  6,  7,  8, 33, 66, 88])"
            ]
          },
          "metadata": {},
          "execution_count": 60
        }
      ]
    },
    {
      "cell_type": "code",
      "source": [
        "newarr017=np.intersect1d(arr16,arr17)#To find only the values that are present in both arrays, use the intersect1d() method.\n",
        "newarr017"
      ],
      "metadata": {
        "colab": {
          "base_uri": "https://localhost:8080/"
        },
        "id": "M2kOTaieswAJ",
        "outputId": "b13c92f0-7b93-4a02-b307-50240337fd65"
      },
      "execution_count": 61,
      "outputs": [
        {
          "output_type": "execute_result",
          "data": {
            "text/plain": [
              "array([2, 3, 4])"
            ]
          },
          "metadata": {},
          "execution_count": 61
        }
      ]
    },
    {
      "cell_type": "code",
      "source": [
        "set1 = np.array([1, 2, 3, 4])\n",
        "set2 = np.array([3, 4, 5, 6])\n",
        "\n",
        "newarrset = np.setdiff1d(set1, set2, assume_unique=True)\n",
        "#the setdiff1d() method takes an optional argument assume_unique, which if set to True can speed up computation. It should always be set to True when dealing with sets.\n",
        "print(newarrset)\n"
      ],
      "metadata": {
        "colab": {
          "base_uri": "https://localhost:8080/"
        },
        "id": "MSyotSO7tDLw",
        "outputId": "d97e3d89-2031-4459-eb1c-338df9b89ce0"
      },
      "execution_count": 62,
      "outputs": [
        {
          "output_type": "stream",
          "name": "stdout",
          "text": [
            "[1 2]\n"
          ]
        }
      ]
    }
  ]
}