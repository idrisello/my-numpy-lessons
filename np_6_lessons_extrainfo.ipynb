{
  "nbformat": 4,
  "nbformat_minor": 0,
  "metadata": {
    "colab": {
      "provenance": [],
      "authorship_tag": "ABX9TyMSPJ3wDH6HX5tn1ewSeD0+",
      "include_colab_link": true
    },
    "kernelspec": {
      "name": "python3",
      "display_name": "Python 3"
    },
    "language_info": {
      "name": "python"
    }
  },
  "cells": [
    {
      "cell_type": "markdown",
      "metadata": {
        "id": "view-in-github",
        "colab_type": "text"
      },
      "source": [
        "<a href=\"https://colab.research.google.com/github/idrisello/my-numpy-lessons/blob/main/np_6_lessons_extrainfo.ipynb\" target=\"_parent\"><img src=\"https://colab.research.google.com/assets/colab-badge.svg\" alt=\"Open In Colab\"/></a>"
      ]
    },
    {
      "cell_type": "code",
      "execution_count": 1,
      "metadata": {
        "id": "e_5MvCLsRLdc"
      },
      "outputs": [],
      "source": [
        "import numpy as np"
      ]
    },
    {
      "cell_type": "code",
      "source": [
        "arr = np.array([1, 2, 3, 4, 5])\n",
        "x = arr.view() #view can change original arr\n",
        "arr[0] = 42\n",
        "print(arr)\n"
      ],
      "metadata": {
        "colab": {
          "base_uri": "https://localhost:8080/"
        },
        "id": "17SbFUK6RVHX",
        "outputId": "a075b4bb-ee20-44ef-c172-dbf9410fe18e"
      },
      "execution_count": null,
      "outputs": [
        {
          "output_type": "stream",
          "name": "stdout",
          "text": [
            "[42  2  3  4  5]\n"
          ]
        }
      ]
    },
    {
      "cell_type": "code",
      "source": [
        "arr00 = np.array([1, 2, 3, 4, 5])\n",
        "x = arr00.copy()\n",
        "y = arr00.view()\n",
        "print(x.base) #base that returns None if the array owns the data.\n",
        "print(y.base) #Otherwise, the base  attribute refers to the original object"
      ],
      "metadata": {
        "colab": {
          "base_uri": "https://localhost:8080/"
        },
        "id": "RDm_J_vJR3vV",
        "outputId": "b657e20e-9aed-4f16-c1b1-1252d1d41fdb"
      },
      "execution_count": null,
      "outputs": [
        {
          "output_type": "stream",
          "name": "stdout",
          "text": [
            "None\n",
            "[1 2 3 4 5]\n"
          ]
        }
      ]
    },
    {
      "cell_type": "code",
      "source": [
        "arr1 = np.array([1, 2, 3, 4], ndmin=5) #Create an array with 5 dimensions using ndmin using a vector with values 1,2,3,4 and verify that last dimension has value 4\n",
        "print(arr1)\n"
      ],
      "metadata": {
        "colab": {
          "base_uri": "https://localhost:8080/"
        },
        "id": "xJYF3pKESwmT",
        "outputId": "1adc5bb5-145b-4de8-86e2-50a8b374047d"
      },
      "execution_count": 5,
      "outputs": [
        {
          "output_type": "stream",
          "name": "stdout",
          "text": [
            "[[[[[1 2 3 4]]]]]\n"
          ]
        }
      ]
    },
    {
      "cell_type": "code",
      "source": [
        "rr = np.array([1, 2, 3, 4, 5, 6, 7, 8])\n",
        "\n",
        "newarr = rr.reshape(2, 2, -1)\n",
        "\n",
        "print(newarr)"
      ],
      "metadata": {
        "colab": {
          "base_uri": "https://localhost:8080/"
        },
        "id": "7HCJop56gpdq",
        "outputId": "bbb9a0f6-15d2-436d-9d1d-89d13bfa124a"
      },
      "execution_count": 7,
      "outputs": [
        {
          "output_type": "stream",
          "name": "stdout",
          "text": [
            "[[[1 2]\n",
            "  [3 4]]\n",
            "\n",
            " [[5 6]\n",
            "  [7 8]]]\n"
          ]
        }
      ]
    },
    {
      "cell_type": "markdown",
      "source": [
        "# **Iterating**"
      ],
      "metadata": {
        "id": "8rjuMQfWkdFZ"
      }
    },
    {
      "cell_type": "code",
      "source": [
        "arr01 = np.array([[1, 2, 3], [4, 5, 6]])\n",
        "\n",
        "for x in arr01:\n",
        "  for y in x:\n",
        "    print(y)"
      ],
      "metadata": {
        "colab": {
          "base_uri": "https://localhost:8080/"
        },
        "id": "2__5o_YMhD3X",
        "outputId": "bde91a17-91f5-437e-cf31-ef39d5ff09c7"
      },
      "execution_count": 8,
      "outputs": [
        {
          "output_type": "stream",
          "name": "stdout",
          "text": [
            "1\n",
            "2\n",
            "3\n",
            "4\n",
            "5\n",
            "6\n"
          ]
        }
      ]
    },
    {
      "cell_type": "code",
      "source": [
        "arr02 = np.array([[[1, 2, 3], [4, 5, 6]], [[7, 8, 9], [10, 11, 12]]])\n",
        "\n",
        "for xx in arr02:\n",
        "  print(xx)"
      ],
      "metadata": {
        "colab": {
          "base_uri": "https://localhost:8080/"
        },
        "id": "C1corKy0hXno",
        "outputId": "dadcab22-b8ee-4219-ec09-49a4f0d162a4"
      },
      "execution_count": 11,
      "outputs": [
        {
          "output_type": "stream",
          "name": "stdout",
          "text": [
            "[[1 2 3]\n",
            " [4 5 6]]\n",
            "[[ 7  8  9]\n",
            " [10 11 12]]\n"
          ]
        }
      ]
    },
    {
      "cell_type": "code",
      "source": [
        "array1 = np.array([[[1, 2], [3, 4]], [[5, 6], [7, 8]]])\n",
        "\n",
        "for x in np.nditer(array1): #  function that provides an efficient way to iterate over elements in one or more arrays.\n",
        "  print(x)"
      ],
      "metadata": {
        "colab": {
          "base_uri": "https://localhost:8080/"
        },
        "id": "YDl2aGIliGfC",
        "outputId": "bfb3a72d-9d90-4941-ba60-2b289edfb928"
      },
      "execution_count": 13,
      "outputs": [
        {
          "output_type": "stream",
          "name": "stdout",
          "text": [
            "1\n",
            "2\n",
            "3\n",
            "4\n",
            "5\n",
            "6\n",
            "7\n",
            "8\n"
          ]
        }
      ]
    },
    {
      "cell_type": "code",
      "source": [
        "arr03 = np.array([1, 2, 3])\n",
        "\n",
        "for idx, xl in np.ndenumerate(arr03): # is a function that provides an iterator yielding index and value tuples for elements in one or more arrays. It is similar to enumerate()\n",
        "  print(idx, xl)"
      ],
      "metadata": {
        "colab": {
          "base_uri": "https://localhost:8080/"
        },
        "id": "D55_NLWmjSkl",
        "outputId": "524ddc2f-3009-41f0-825c-b555934b8a0f"
      },
      "execution_count": 18,
      "outputs": [
        {
          "output_type": "stream",
          "name": "stdout",
          "text": [
            "(0,) 1\n",
            "(1,) 2\n",
            "(2,) 3\n"
          ]
        }
      ]
    },
    {
      "cell_type": "markdown",
      "source": [
        "# **Joining**\n",
        "# joining means putting contents of two or more arrays in a single array."
      ],
      "metadata": {
        "id": "PqCsUcXDkmYQ"
      }
    },
    {
      "cell_type": "code",
      "source": [
        "arr33 = np.array([1, 2, 3])\n",
        "\n",
        "arr23 = np.array([4, 5, 6])\n",
        "\n",
        "arr_conc = np.concatenate((arr33, arr23)) #join 2array into single arr\n",
        "\n",
        "print(arr_conc)"
      ],
      "metadata": {
        "colab": {
          "base_uri": "https://localhost:8080/"
        },
        "id": "fl-NwDpdkRHr",
        "outputId": "09f19be7-538d-45b0-eb5e-e168217a6efc"
      },
      "execution_count": 20,
      "outputs": [
        {
          "output_type": "stream",
          "name": "stdout",
          "text": [
            "[1 2 3 4 5 6]\n"
          ]
        }
      ]
    },
    {
      "cell_type": "code",
      "source": [
        "arr11 = np.array([[1, 2], [3, 4]])\n",
        "\n",
        "arr12 = np.array([[5, 6], [7, 8]])\n",
        "\n",
        "arr = np.concatenate((arr11, arr12), axis=0)\n",
        "\n",
        "print(arr)"
      ],
      "metadata": {
        "colab": {
          "base_uri": "https://localhost:8080/"
        },
        "id": "a-8L3-C9lB6a",
        "outputId": "92b3af7d-1cdd-49dd-f6f3-64dae26c8379"
      },
      "execution_count": 23,
      "outputs": [
        {
          "output_type": "stream",
          "name": "stdout",
          "text": [
            "[[1 2]\n",
            " [3 4]\n",
            " [5 6]\n",
            " [7 8]]\n"
          ]
        }
      ]
    },
    {
      "cell_type": "code",
      "source": [
        "arr4 = np.array([1, 2, 3])\n",
        "\n",
        "arr5 = np.array([4, 5, 6])\n",
        "\n",
        "arr_stack = np.stack((arr4, arr5), axis=0) #Stacking is same as concatenation, the only difference is that stacking is done along a new axis.\n",
        "\n",
        "print(arr_stack)"
      ],
      "metadata": {
        "colab": {
          "base_uri": "https://localhost:8080/"
        },
        "id": "gmRQ1hgtlWuu",
        "outputId": "5de84a76-a7cd-428c-f648-9546f50e6971"
      },
      "execution_count": 27,
      "outputs": [
        {
          "output_type": "stream",
          "name": "stdout",
          "text": [
            "[[1 2 3]\n",
            " [4 5 6]]\n"
          ]
        }
      ]
    },
    {
      "cell_type": "code",
      "source": [
        "arr6 = np.array([1, 2, 3])\n",
        "\n",
        "arr7 = np.array([4, 5, 6])\n",
        "\n",
        "arr_hstack = np.hstack((arr6, arr7)) # hstack() to stack along rows.\n",
        "\n",
        "print(arr_hstack)"
      ],
      "metadata": {
        "colab": {
          "base_uri": "https://localhost:8080/"
        },
        "id": "B4F4SKwLmBxZ",
        "outputId": "acdbcd2a-3acb-4cc5-d0a6-8c445cea801e"
      },
      "execution_count": 30,
      "outputs": [
        {
          "output_type": "stream",
          "name": "stdout",
          "text": [
            "[1 2 3 4 5 6]\n"
          ]
        }
      ]
    },
    {
      "cell_type": "code",
      "source": [
        "arr_vstack=np.vstack((arr6,arr7)) #vstack()  to stack along columns.\n",
        "arr_vstack"
      ],
      "metadata": {
        "colab": {
          "base_uri": "https://localhost:8080/"
        },
        "id": "0AIVZoFxmdOR",
        "outputId": "c70841c8-dc04-4668-970c-caaa6ee43a51"
      },
      "execution_count": 33,
      "outputs": [
        {
          "output_type": "execute_result",
          "data": {
            "text/plain": [
              "array([[1, 2, 3],\n",
              "       [4, 5, 6]])"
            ]
          },
          "metadata": {},
          "execution_count": 33
        }
      ]
    },
    {
      "cell_type": "code",
      "source": [
        "arr_dstack=np.dstack((arr6,arr7)) #dstack() to stack along height, which is the same as depth.\n",
        "arr_dstack"
      ],
      "metadata": {
        "colab": {
          "base_uri": "https://localhost:8080/"
        },
        "id": "STIi6qOQmqqF",
        "outputId": "51ad4e2a-8a0a-4f96-f629-52caee4065df"
      },
      "execution_count": 34,
      "outputs": [
        {
          "output_type": "execute_result",
          "data": {
            "text/plain": [
              "array([[[1, 4],\n",
              "        [2, 5],\n",
              "        [3, 6]]])"
            ]
          },
          "metadata": {},
          "execution_count": 34
        }
      ]
    },
    {
      "cell_type": "markdown",
      "source": [
        "# **Spliting**\n",
        "# splitting is reverse operation of Joining.\n",
        "\n",
        "#Joining merges multiple arrays into one and Splitting breaks one array into multiple."
      ],
      "metadata": {
        "id": "rHanwr8VnN8a"
      }
    },
    {
      "cell_type": "code",
      "source": [
        "arr9 = np.array([1, 2, 3, 4, 5, 6])\n",
        "\n",
        "newarr9 = np.array_split(arr9, 3)#divide into 3parts\n",
        "newarr9"
      ],
      "metadata": {
        "colab": {
          "base_uri": "https://localhost:8080/"
        },
        "id": "sV6_I_lIntaS",
        "outputId": "f00b8e9c-c91b-49e6-ba73-016688b721f5"
      },
      "execution_count": 35,
      "outputs": [
        {
          "output_type": "execute_result",
          "data": {
            "text/plain": [
              "[array([1, 2]), array([3, 4]), array([5, 6])]"
            ]
          },
          "metadata": {},
          "execution_count": 35
        }
      ]
    },
    {
      "cell_type": "code",
      "source": [
        "arr10 = np.array([[1, 2, 3], [4, 5, 6], [7, 8, 9], [10, 11, 12], [13, 14, 15], [16, 17, 18]])\n",
        "\n",
        "newarr10 = np.array_split(arr10, 3)\n",
        "\n",
        "print(newarr10)"
      ],
      "metadata": {
        "colab": {
          "base_uri": "https://localhost:8080/"
        },
        "id": "XCt7xpG6n_3j",
        "outputId": "b9f0abd0-54d4-45a1-8289-02a076433cb7"
      },
      "execution_count": 37,
      "outputs": [
        {
          "output_type": "stream",
          "name": "stdout",
          "text": [
            "[array([[1, 2, 3],\n",
            "       [4, 5, 6]]), array([[ 7,  8,  9],\n",
            "       [10, 11, 12]]), array([[13, 14, 15],\n",
            "       [16, 17, 18]])]\n"
          ]
        }
      ]
    },
    {
      "cell_type": "code",
      "source": [
        "arr13 = np.array([[1, 2, 3], [4, 5, 6], [7, 8, 9], [10, 11, 12], [13, 14, 15], [16, 17, 18]])\n",
        "\n",
        "newarr13 = np.array_split(arr13, 3, axis=1) #split the 2-D array into three 2-D arrays along rows.\n",
        "\n",
        "print(newarr13)"
      ],
      "metadata": {
        "colab": {
          "base_uri": "https://localhost:8080/"
        },
        "id": "0Gg2pWTjoX9I",
        "outputId": "60308ff3-b658-4b47-c1ce-83b18fbfeb8d"
      },
      "execution_count": 38,
      "outputs": [
        {
          "output_type": "stream",
          "name": "stdout",
          "text": [
            "[array([[ 1],\n",
            "       [ 4],\n",
            "       [ 7],\n",
            "       [10],\n",
            "       [13],\n",
            "       [16]]), array([[ 2],\n",
            "       [ 5],\n",
            "       [ 8],\n",
            "       [11],\n",
            "       [14],\n",
            "       [17]]), array([[ 3],\n",
            "       [ 6],\n",
            "       [ 9],\n",
            "       [12],\n",
            "       [15],\n",
            "       [18]])]\n"
          ]
        }
      ]
    },
    {
      "cell_type": "markdown",
      "source": [
        "**Note: Similar alternates to vstack() and dstack() are available as vsplit() and dsplit().**"
      ],
      "metadata": {
        "id": "2ewIn5BEovFW"
      }
    },
    {
      "cell_type": "markdown",
      "source": [
        "# **Search**\n",
        "# You can search an array for a certain value, and return the indexes that get a match.\n",
        "\n",
        "# To search an array, use the where() method."
      ],
      "metadata": {
        "id": "qyFeOKKypST5"
      }
    },
    {
      "cell_type": "code",
      "source": [
        "arr14 = np.array([1, 2, 3, 4, 5, 4, 4])\n",
        "\n",
        "arr_where = np.where(arr14 == 4)\n",
        "\n",
        "print(arr_where)"
      ],
      "metadata": {
        "colab": {
          "base_uri": "https://localhost:8080/"
        },
        "id": "fCxukpEloimK",
        "outputId": "1474fa89-13ae-4c0e-b744-585be0af51c0"
      },
      "execution_count": 40,
      "outputs": [
        {
          "output_type": "stream",
          "name": "stdout",
          "text": [
            "(array([3, 5, 6]),)\n"
          ]
        }
      ]
    },
    {
      "cell_type": "code",
      "source": [
        "arr15 = np.array([1, 2, 3, 4, 5, 6, 7, 8])\n",
        "\n",
        "x15 = np.where(arr15%2 == 0)\n",
        "\n",
        "print(x15)"
      ],
      "metadata": {
        "colab": {
          "base_uri": "https://localhost:8080/"
        },
        "id": "jzQfDuMlporj",
        "outputId": "11e3a1cd-2eda-4552-b974-595d56eb412e"
      },
      "execution_count": 42,
      "outputs": [
        {
          "output_type": "stream",
          "name": "stdout",
          "text": [
            "(array([1, 3, 5, 7]),)\n"
          ]
        }
      ]
    },
    {
      "cell_type": "code",
      "source": [
        "arr_16 = np.array([6, 7, 8, 9])\n",
        "arr_search = np.searchsorted(arr_16, 7) #find the indexes where the value 7 should be inserted:\n",
        "\n",
        "print(arr_search)"
      ],
      "metadata": {
        "colab": {
          "base_uri": "https://localhost:8080/"
        },
        "id": "5dZQOgzbsmsu",
        "outputId": "0d69e199-0769-4c51-9d93-db346788edd8"
      },
      "execution_count": 47,
      "outputs": [
        {
          "output_type": "stream",
          "name": "stdout",
          "text": [
            "1\n"
          ]
        }
      ]
    },
    {
      "cell_type": "code",
      "source": [
        "x_16 = np.searchsorted(arr_16, 7, side='right') #Find the indexes where the value 7 should be inserted, starting from the right:\n",
        "\n",
        "print(x_16)"
      ],
      "metadata": {
        "colab": {
          "base_uri": "https://localhost:8080/"
        },
        "id": "tgxqQFAGtAi2",
        "outputId": "1e468a40-fd5d-4e2d-ee5e-4f9592e8731f"
      },
      "execution_count": 50,
      "outputs": [
        {
          "output_type": "stream",
          "name": "stdout",
          "text": [
            "2\n"
          ]
        }
      ]
    },
    {
      "cell_type": "code",
      "source": [
        "arr17 = np.array([1, 3, 5, 7])\n",
        "\n",
        "x17= np.searchsorted(arr17, [2, 4, 6]) #Find the indexes where the values 2, 4, and 6 should be inserted:\n",
        "\n",
        "print(x17)\n"
      ],
      "metadata": {
        "colab": {
          "base_uri": "https://localhost:8080/"
        },
        "id": "e1fAVWi5vaxH",
        "outputId": "da9eb14d-96f1-44ac-a97e-f5eb2495ae02"
      },
      "execution_count": 51,
      "outputs": [
        {
          "output_type": "stream",
          "name": "stdout",
          "text": [
            "[1 2 3]\n"
          ]
        }
      ]
    }
  ]
}